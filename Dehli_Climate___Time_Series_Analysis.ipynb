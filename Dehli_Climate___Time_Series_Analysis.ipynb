{
  "nbformat": 4,
  "nbformat_minor": 0,
  "metadata": {
    "colab": {
      "private_outputs": true,
      "provenance": []
    },
    "kernelspec": {
      "name": "python3",
      "display_name": "Python 3"
    },
    "language_info": {
      "name": "python"
    }
  },
  "cells": [
    {
      "cell_type": "code",
      "execution_count": null,
      "metadata": {
        "id": "zePiX-4sRzJm"
      },
      "outputs": [],
      "source": []
    },
    {
      "cell_type": "markdown",
      "source": [
        "This file contains weather data collected in the city of Delhi from the period of 4 years (from 2013 to 2017). It can be used for the purpose of training. This is purely academic dataset and is developed as a part of Data Analytics course of 2019 at PES University, Bangalore.\n",
        "\n"
      ],
      "metadata": {
        "id": "fFj3FdebR6W-"
      }
    },
    {
      "cell_type": "code",
      "source": [
        "import pandas as pd"
      ],
      "metadata": {
        "id": "TANk_UhtSSm8"
      },
      "execution_count": null,
      "outputs": []
    },
    {
      "cell_type": "code",
      "source": [
        "df=pd.read_csv('/content/DailyDelhiClimate11Train.csv')"
      ],
      "metadata": {
        "id": "_81lpaYzS6-2"
      },
      "execution_count": null,
      "outputs": []
    },
    {
      "cell_type": "code",
      "source": [
        "df.head()"
      ],
      "metadata": {
        "id": "AtTWHDEVTJGM"
      },
      "execution_count": null,
      "outputs": []
    },
    {
      "cell_type": "code",
      "source": [
        "! pip install https://github.com/pandas-profiling/pandas-profiling/archive/master.zip"
      ],
      "metadata": {
        "id": "BFCAa03qTpsJ"
      },
      "execution_count": null,
      "outputs": []
    },
    {
      "cell_type": "code",
      "source": [
        "! pip install darts "
      ],
      "metadata": {
        "id": "04aghOYgWk3M"
      },
      "execution_count": null,
      "outputs": []
    },
    {
      "cell_type": "code",
      "source": [
        "import pandas_profiling"
      ],
      "metadata": {
        "id": "iovtpH1sTa2l"
      },
      "execution_count": null,
      "outputs": []
    },
    {
      "cell_type": "code",
      "source": [
        "from pandas_profiling import ProfileReport"
      ],
      "metadata": {
        "id": "40WuE6YMT-TB"
      },
      "execution_count": null,
      "outputs": []
    },
    {
      "cell_type": "code",
      "source": [
        "import os\n",
        "os._exit(00)"
      ],
      "metadata": {
        "id": "JqQXxDEPUMx6"
      },
      "execution_count": null,
      "outputs": []
    },
    {
      "cell_type": "code",
      "source": [
        "profile = ProfileReport(df , html = {'style' : {'full_width':True}})\n",
        "profile.to_file(output_file=\"report.html\")\n",
        "profile.to_notebook_iframe()\n"
      ],
      "metadata": {
        "id": "ri6m4QFpTgLU"
      },
      "execution_count": null,
      "outputs": []
    },
    {
      "cell_type": "code",
      "source": [
        "import darts as ds\n",
        "import numpy as np\n"
      ],
      "metadata": {
        "id": "2b95oSb1WpHk"
      },
      "execution_count": null,
      "outputs": []
    },
    {
      "cell_type": "code",
      "source": [
        "df['wind_speed_log'] = np.log(df['wind_speed'])"
      ],
      "metadata": {
        "id": "xhOmNkyavtDm"
      },
      "execution_count": null,
      "outputs": []
    },
    {
      "cell_type": "code",
      "source": [
        "df['date'].tail()"
      ],
      "metadata": {
        "id": "WYWuvEKcX-7X"
      },
      "execution_count": null,
      "outputs": []
    },
    {
      "cell_type": "code",
      "source": [
        "df_ts= ds.TimeSeries.from_dataframe(df ,'date')"
      ],
      "metadata": {
        "id": "fkctM0yFb3Gd"
      },
      "execution_count": null,
      "outputs": []
    },
    {
      "cell_type": "code",
      "source": [
        "! python -m pip uninstall matplotlib\n",
        "! pip install matplotlib==3.1.3"
      ],
      "metadata": {
        "id": "ZhgqB89yr7dm"
      },
      "execution_count": null,
      "outputs": []
    },
    {
      "cell_type": "code",
      "source": [
        "df_ts.columns"
      ],
      "metadata": {
        "id": "2E09StNOmNtv"
      },
      "execution_count": null,
      "outputs": []
    },
    {
      "cell_type": "code",
      "source": [
        "import matplotlib.pyplot as plt\n"
      ],
      "metadata": {
        "id": "OSx9EfOXYj88"
      },
      "execution_count": null,
      "outputs": []
    },
    {
      "cell_type": "code",
      "source": [],
      "metadata": {
        "id": "ivsMgEv7-Oc6"
      },
      "execution_count": null,
      "outputs": []
    },
    {
      "cell_type": "markdown",
      "source": [
        "# Exploration\n",
        "In this section, I'll take a look at the various variables provided to me and note any trends/periodical behaviour.\n",
        "\n"
      ],
      "metadata": {
        "id": "pIT-NgwY-O9d"
      }
    },
    {
      "cell_type": "markdown",
      "source": [
        "**Mean Temperature**\n"
      ],
      "metadata": {
        "id": "eAvsISCh_yth"
      }
    },
    {
      "cell_type": "code",
      "source": [
        "plt.figure(figsize=(20 ,10))\n",
        "df_ts['meantemp'].plot()"
      ],
      "metadata": {
        "id": "OULYPenrwGB0"
      },
      "execution_count": null,
      "outputs": []
    },
    {
      "cell_type": "markdown",
      "source": [
        "this feature seems to vary periodically . As seen in the graph , this feature increases until reaching its maximum point for that year at may . it then declines with a small spike around September / October"
      ],
      "metadata": {
        "id": "KHZXnbW9-ksj"
      }
    },
    {
      "cell_type": "markdown",
      "source": [
        "**Humidity**"
      ],
      "metadata": {
        "id": "t_4DMPOu_-Au"
      }
    },
    {
      "cell_type": "code",
      "source": [
        "\n",
        "import matplotlib.pyplot as plt\n",
        "plt.figure(figsize=(20,10))\n",
        "\n",
        "df_ts['humidity'].plot()"
      ],
      "metadata": {
        "id": "VWwzWZOUcblX"
      },
      "execution_count": null,
      "outputs": []
    },
    {
      "cell_type": "code",
      "source": [],
      "metadata": {
        "id": "4jYGsIdbfv64"
      },
      "execution_count": null,
      "outputs": []
    },
    {
      "cell_type": "markdown",
      "source": [
        "this feature steeply dips around February/March and increases , albeit with some turbulence , during the fall/winter seasons"
      ],
      "metadata": {
        "id": "xxeUBvo7AeOj"
      }
    },
    {
      "cell_type": "code",
      "source": [
        "! pip install xgboost"
      ],
      "metadata": {
        "id": "PIyxs-nyfxoB"
      },
      "execution_count": null,
      "outputs": []
    },
    {
      "cell_type": "code",
      "source": [
        "import xgboost as xgb"
      ],
      "metadata": {
        "id": "6RV_0dka2vNk"
      },
      "execution_count": null,
      "outputs": []
    },
    {
      "cell_type": "code",
      "source": [
        "import numpy as np\n",
        "plt.figure(figsize=(20 ,10))\n",
        "df_ts['wind_speed_log'].plot()"
      ],
      "metadata": {
        "id": "ONzrCMVBqro1"
      },
      "execution_count": null,
      "outputs": []
    },
    {
      "cell_type": "code",
      "source": [
        "plt.figure(figsize=(20 ,10))\n",
        "df_ts['meanpressure'].plot()"
      ],
      "metadata": {
        "id": "IzbcPQBbvnnV"
      },
      "execution_count": null,
      "outputs": []
    },
    {
      "cell_type": "code",
      "source": [
        "df_td_meantemp=df_ts['meantemp']\n",
        "train, val = df_td_meantemp.split_after(pd.Timestamp(\"2016-01-01\"))\n",
        "train.plot(label=\"train\")\n",
        "val.plot(label=\"val\")"
      ],
      "metadata": {
        "id": "EPPGKI2lwZaL"
      },
      "execution_count": null,
      "outputs": []
    },
    {
      "cell_type": "code",
      "source": [
        "from darts.models import FFT, AutoARIMA, ExponentialSmoothing, Theta\n",
        "from darts.metrics import mae\n",
        "models =[AutoARIMA() ,  ExponentialSmoothing() ,Theta() ,FFT()]\n",
        "for model in models:\n",
        "  model.fit(train)\n",
        "  pred_val =model.predict(len(val))\n",
        "  print(str(model) + \" MAE: \" + str(mae(pred_val, val)))\n",
        "  plt.figure(figsize=(15 , 10))\n",
        "  train.plot(label=\"train\")\n",
        "  val.plot(label=\"val\")\n",
        "  pred_val.plot(label=\"prediction\")\n"
      ],
      "metadata": {
        "id": "HAzTrfI9ZjAN"
      },
      "execution_count": null,
      "outputs": []
    },
    {
      "cell_type": "markdown",
      "source": [
        "Theta ,FFT are the best models for temperature prediction"
      ],
      "metadata": {
        "id": "sqTPVxEV5kC1"
      }
    },
    {
      "cell_type": "markdown",
      "source": [],
      "metadata": {
        "id": "lNpfBBIPZx_r"
      }
    }
  ]
}